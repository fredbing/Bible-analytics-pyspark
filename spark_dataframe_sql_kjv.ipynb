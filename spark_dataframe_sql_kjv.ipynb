{
 "cells": [
  {
   "cell_type": "markdown",
   "metadata": {},
   "source": [
    "### In this project, Pyspark DataFrames were created for the txt format of KJV Bible after being processed with RDD. Additional columns were made for SQL query purposes."
   ]
  },
  {
   "cell_type": "markdown",
   "metadata": {},
   "source": [
    "#### Load KJV txt file from external path"
   ]
  },
  {
   "cell_type": "code",
   "execution_count": 2,
   "metadata": {},
   "outputs": [],
   "source": [
    "import re"
   ]
  },
  {
   "cell_type": "code",
   "execution_count": 3,
   "metadata": {},
   "outputs": [
    {
     "data": {
      "text/plain": [
       "32423"
      ]
     },
     "execution_count": 3,
     "metadata": {},
     "output_type": "execute_result"
    }
   ],
   "source": [
    "k = sc.textFile(\"/Users/binggangliu/Downloads/Bible/kjv/KJV_c.txt\", minPartitions=4)\n",
    "k.count()"
   ]
  },
  {
   "cell_type": "code",
   "execution_count": 4,
   "metadata": {},
   "outputs": [
    {
     "data": {
      "text/plain": [
       "['',\n",
       " 'Genesis',\n",
       " '',\n",
       " 'Gen.1:1 In the beginning God created the heaven and the earth.',\n",
       " 'Gen.1:2 And the earth was without form, and void; and darkness was upon the face of the deep. And the Spirit of God moved upon the face of the waters.']"
      ]
     },
     "execution_count": 4,
     "metadata": {},
     "output_type": "execute_result"
    }
   ],
   "source": [
    "k.take(5)"
   ]
  },
  {
   "cell_type": "markdown",
   "metadata": {},
   "source": [
    "#### Prepare data for DataFrame, first remove the empty lines and the lines with book names, and only keep the lines for all verses"
   ]
  },
  {
   "cell_type": "code",
   "execution_count": 5,
   "metadata": {},
   "outputs": [],
   "source": [
    "def find_verses(line):\n",
    "    pattern = re.compile(r'\\.(\\d|\\d\\d|\\d\\d\\d):')\n",
    "    match = pattern.findall(line)\n",
    "    if match:\n",
    "        return line"
   ]
  },
  {
   "cell_type": "code",
   "execution_count": 6,
   "metadata": {},
   "outputs": [],
   "source": [
    "kv = k.filter(lambda x: find_verses(x))"
   ]
  },
  {
   "cell_type": "code",
   "execution_count": 7,
   "metadata": {},
   "outputs": [
    {
     "data": {
      "text/plain": [
       "['Gen.1:1 In the beginning God created the heaven and the earth.',\n",
       " 'Gen.1:2 And the earth was without form, and void; and darkness was upon the face of the deep. And the Spirit of God moved upon the face of the waters.',\n",
       " 'Gen.1:3 And God said, Let there be light: and there was light.',\n",
       " 'Gen.1:4 And God saw the light, that it was good: and God divided the light from the darkness.',\n",
       " 'Gen.1:5 And God called the light Day, and the darkness he called Night. And the evening and the morning were the first day.']"
      ]
     },
     "execution_count": 7,
     "metadata": {},
     "output_type": "execute_result"
    }
   ],
   "source": [
    "kv.take(5)"
   ]
  },
  {
   "cell_type": "markdown",
   "metadata": {},
   "source": [
    "##### Total number of verses:"
   ]
  },
  {
   "cell_type": "code",
   "execution_count": 8,
   "metadata": {},
   "outputs": [
    {
     "data": {
      "text/plain": [
       "31102"
      ]
     },
     "execution_count": 8,
     "metadata": {},
     "output_type": "execute_result"
    }
   ],
   "source": [
    "kv.count()"
   ]
  },
  {
   "cell_type": "markdown",
   "metadata": {},
   "source": [
    "#### Splitting the verses"
   ]
  },
  {
   "cell_type": "code",
   "execution_count": 9,
   "metadata": {},
   "outputs": [],
   "source": [
    "def split(lines):\n",
    "    lines = lines.split()\n",
    "    return lines\n",
    "\n",
    "kv_split = kv.map(split)"
   ]
  },
  {
   "cell_type": "code",
   "execution_count": 10,
   "metadata": {},
   "outputs": [
    {
     "data": {
      "text/plain": [
       "[['Gen.1:1',\n",
       "  'In',\n",
       "  'the',\n",
       "  'beginning',\n",
       "  'God',\n",
       "  'created',\n",
       "  'the',\n",
       "  'heaven',\n",
       "  'and',\n",
       "  'the',\n",
       "  'earth.'],\n",
       " ['Gen.1:2',\n",
       "  'And',\n",
       "  'the',\n",
       "  'earth',\n",
       "  'was',\n",
       "  'without',\n",
       "  'form,',\n",
       "  'and',\n",
       "  'void;',\n",
       "  'and',\n",
       "  'darkness',\n",
       "  'was',\n",
       "  'upon',\n",
       "  'the',\n",
       "  'face',\n",
       "  'of',\n",
       "  'the',\n",
       "  'deep.',\n",
       "  'And',\n",
       "  'the',\n",
       "  'Spirit',\n",
       "  'of',\n",
       "  'God',\n",
       "  'moved',\n",
       "  'upon',\n",
       "  'the',\n",
       "  'face',\n",
       "  'of',\n",
       "  'the',\n",
       "  'waters.']]"
      ]
     },
     "execution_count": 10,
     "metadata": {},
     "output_type": "execute_result"
    }
   ],
   "source": [
    "kv_split.take(2)"
   ]
  },
  {
   "cell_type": "markdown",
   "metadata": {},
   "source": [
    "#### Keep the verse title, and join the remaining words together as a single verse"
   ]
  },
  {
   "cell_type": "markdown",
   "metadata": {},
   "source": [
    "Generate an index for each verse, as the verse ID (VID)"
   ]
  },
  {
   "cell_type": "code",
   "execution_count": 11,
   "metadata": {},
   "outputs": [],
   "source": [
    "from pyspark.sql import Row"
   ]
  },
  {
   "cell_type": "code",
   "execution_count": 12,
   "metadata": {},
   "outputs": [],
   "source": [
    "kv1 = kv_split.zipWithIndex()"
   ]
  },
  {
   "cell_type": "code",
   "execution_count": 13,
   "metadata": {},
   "outputs": [
    {
     "data": {
      "text/plain": [
       "[(['Gen.1:1',\n",
       "   'In',\n",
       "   'the',\n",
       "   'beginning',\n",
       "   'God',\n",
       "   'created',\n",
       "   'the',\n",
       "   'heaven',\n",
       "   'and',\n",
       "   'the',\n",
       "   'earth.'],\n",
       "  0),\n",
       " (['Gen.1:2',\n",
       "   'And',\n",
       "   'the',\n",
       "   'earth',\n",
       "   'was',\n",
       "   'without',\n",
       "   'form,',\n",
       "   'and',\n",
       "   'void;',\n",
       "   'and',\n",
       "   'darkness',\n",
       "   'was',\n",
       "   'upon',\n",
       "   'the',\n",
       "   'face',\n",
       "   'of',\n",
       "   'the',\n",
       "   'deep.',\n",
       "   'And',\n",
       "   'the',\n",
       "   'Spirit',\n",
       "   'of',\n",
       "   'God',\n",
       "   'moved',\n",
       "   'upon',\n",
       "   'the',\n",
       "   'face',\n",
       "   'of',\n",
       "   'the',\n",
       "   'waters.'],\n",
       "  1)]"
      ]
     },
     "execution_count": 13,
     "metadata": {},
     "output_type": "execute_result"
    }
   ],
   "source": [
    "kv1.take(2)"
   ]
  },
  {
   "cell_type": "markdown",
   "metadata": {},
   "source": [
    "Separate the title from the verse as verse name (VName)"
   ]
  },
  {
   "cell_type": "code",
   "execution_count": 14,
   "metadata": {},
   "outputs": [],
   "source": [
    "ktv = kv1.map(lambda r: Row(VName = r[0][0], verse = ' '.join(r[0][1:]), VID= r[1]+1))"
   ]
  },
  {
   "cell_type": "code",
   "execution_count": 15,
   "metadata": {},
   "outputs": [
    {
     "data": {
      "text/plain": [
       "[Row(VID=1, VName='Gen.1:1', verse='In the beginning God created the heaven and the earth.'),\n",
       " Row(VID=2, VName='Gen.1:2', verse='And the earth was without form, and void; and darkness was upon the face of the deep. And the Spirit of God moved upon the face of the waters.'),\n",
       " Row(VID=3, VName='Gen.1:3', verse='And God said, Let there be light: and there was light.')]"
      ]
     },
     "execution_count": 15,
     "metadata": {},
     "output_type": "execute_result"
    }
   ],
   "source": [
    "ktv.take(3)"
   ]
  },
  {
   "cell_type": "markdown",
   "metadata": {},
   "source": [
    "#### Convert to DataFrame from RDD"
   ]
  },
  {
   "cell_type": "code",
   "execution_count": 16,
   "metadata": {},
   "outputs": [],
   "source": [
    "df = ktv.toDF()"
   ]
  },
  {
   "cell_type": "code",
   "execution_count": 18,
   "metadata": {},
   "outputs": [
    {
     "data": {
      "text/plain": [
       "[Row(VID=1, VName='Gen.1:1', verse='In the beginning God created the heaven and the earth.'),\n",
       " Row(VID=2, VName='Gen.1:2', verse='And the earth was without form, and void; and darkness was upon the face of the deep. And the Spirit of God moved upon the face of the waters.')]"
      ]
     },
     "execution_count": 18,
     "metadata": {},
     "output_type": "execute_result"
    }
   ],
   "source": [
    "df.take(2)"
   ]
  },
  {
   "cell_type": "code",
   "execution_count": 19,
   "metadata": {},
   "outputs": [],
   "source": [
    "from pyspark.sql.functions import col, udf\n",
    "\n",
    "#from pyspark.sql.functions import monotonically_increasing_id\n",
    "#df0 = df.withColumn('VID', monotonically_increasing_id())\n",
    "#Initially the monotonically_increasing_id() method was used to generate the unique ID's for the verses,\n",
    "# but the results showed that the consecutiveness was not guaranteed by this method, hence the zipWithIndex() method for RDD is used above\n"
   ]
  },
  {
   "cell_type": "markdown",
   "metadata": {},
   "source": [
    "#### Add columns for book name (BName) and chapter name (CName), generating the names by extracting the required characters from the 'VName' column"
   ]
  },
  {
   "cell_type": "code",
   "execution_count": 20,
   "metadata": {},
   "outputs": [],
   "source": [
    "\n",
    "bookname_udf = udf(lambda VName: VName[:2] if VName[2]=='.' else VName[:3] if VName[3]=='.' else VName[:4] if VName[4]=='.' else VName[:5])\n",
    "chaptername_udf = udf(lambda VName: VName[:4] if VName[4]==':' else VName[:5] if VName[5]==':' else VName[:6] if VName[6]==':' else VName[:7] if VName[7]==':' else VName[:8])\n",
    "\n",
    "\n",
    "df1 = df.withColumn('BName', bookname_udf(df.VName)).withColumn('CName', chaptername_udf(df.VName))"
   ]
  },
  {
   "cell_type": "markdown",
   "metadata": {},
   "source": [
    "#### Create a function below to generate ID's for book name (BName) and chapeter name (CName)"
   ]
  },
  {
   "cell_type": "markdown",
   "metadata": {},
   "source": [
    "Because rows in Pyspark a DataFrame are not iterable, the function below cannot take 'CName' and 'BName' columns from the DataFrame as input argument directly. In order to generate ID's for these two columns, 'CName' and 'BName' columns are first converted to lists and then RDD's are made of the lists with index zipped.\n",
    "The function convert_id() is created to convert the list of names to lists of ID's."
   ]
  },
  {
   "cell_type": "code",
   "execution_count": 21,
   "metadata": {},
   "outputs": [],
   "source": [
    "list_b = df1.select('BName').rdd.map(lambda x: x).collect()"
   ]
  },
  {
   "cell_type": "code",
   "execution_count": 22,
   "metadata": {},
   "outputs": [],
   "source": [
    "#list_b"
   ]
  },
  {
   "cell_type": "code",
   "execution_count": 23,
   "metadata": {},
   "outputs": [],
   "source": [
    "list_c = df1.select('CName').rdd.flatMap(lambda x: x).collect()"
   ]
  },
  {
   "cell_type": "code",
   "execution_count": 24,
   "metadata": {},
   "outputs": [],
   "source": [
    "#list_c"
   ]
  },
  {
   "cell_type": "markdown",
   "metadata": {},
   "source": [
    "In above, flatMap() and map() both work, since there is only one element per line in the lists created."
   ]
  },
  {
   "cell_type": "code",
   "execution_count": 25,
   "metadata": {},
   "outputs": [],
   "source": [
    "def convert_id(list):\n",
    "    row_id = 0\n",
    "    Check = None\n",
    "    id_list = []\n",
    "    for name in list:\n",
    "        if Check != name:\n",
    "            row_id += 1\n",
    "            Check = name\n",
    "            id_list.append(row_id)\n",
    "        else:\n",
    "            row_id += 0   \n",
    "            id_list.append(row_id)\n",
    "    return id_list\n"
   ]
  },
  {
   "cell_type": "markdown",
   "metadata": {},
   "source": [
    "Convert lists of names to lists of ID's:"
   ]
  },
  {
   "cell_type": "code",
   "execution_count": 26,
   "metadata": {},
   "outputs": [],
   "source": [
    "list_bid = convert_id(list_b)"
   ]
  },
  {
   "cell_type": "code",
   "execution_count": 27,
   "metadata": {},
   "outputs": [
    {
     "data": {
      "text/plain": [
       "list"
      ]
     },
     "execution_count": 27,
     "metadata": {},
     "output_type": "execute_result"
    }
   ],
   "source": [
    "type(list_bid)"
   ]
  },
  {
   "cell_type": "code",
   "execution_count": 28,
   "metadata": {},
   "outputs": [],
   "source": [
    "list_cid = convert_id(list_c)"
   ]
  },
  {
   "cell_type": "code",
   "execution_count": 29,
   "metadata": {},
   "outputs": [],
   "source": [
    "#type(list_cid)"
   ]
  },
  {
   "cell_type": "markdown",
   "metadata": {},
   "source": [
    "Generate an index for each ID:"
   ]
  },
  {
   "cell_type": "markdown",
   "metadata": {},
   "source": [
    "RDD and DF with index for BID (ID for BName):"
   ]
  },
  {
   "cell_type": "code",
   "execution_count": 30,
   "metadata": {},
   "outputs": [],
   "source": [
    "rdd_bid = sc.parallelize(list_bid).zipWithIndex()"
   ]
  },
  {
   "cell_type": "code",
   "execution_count": 31,
   "metadata": {},
   "outputs": [
    {
     "data": {
      "text/plain": [
       "[(1, 0), (1, 1), (1, 2)]"
      ]
     },
     "execution_count": 31,
     "metadata": {},
     "output_type": "execute_result"
    }
   ],
   "source": [
    "rdd_bid.take(3)"
   ]
  },
  {
   "cell_type": "code",
   "execution_count": 32,
   "metadata": {},
   "outputs": [],
   "source": [
    "rdd_bid_col = rdd_bid.map(lambda r: Row(BID = r[0], BID_index = r[1]+1))"
   ]
  },
  {
   "cell_type": "code",
   "execution_count": 33,
   "metadata": {},
   "outputs": [
    {
     "data": {
      "text/plain": [
       "[Row(BID=1, BID_index=1), Row(BID=1, BID_index=2), Row(BID=1, BID_index=3)]"
      ]
     },
     "execution_count": 33,
     "metadata": {},
     "output_type": "execute_result"
    }
   ],
   "source": [
    "rdd_bid_col.take(3)"
   ]
  },
  {
   "cell_type": "code",
   "execution_count": 34,
   "metadata": {},
   "outputs": [],
   "source": [
    "df_bid = rdd_bid_col.toDF()"
   ]
  },
  {
   "cell_type": "code",
   "execution_count": 35,
   "metadata": {},
   "outputs": [
    {
     "data": {
      "text/plain": [
       "[Row(BID=1, BID_index=1), Row(BID=1, BID_index=2), Row(BID=1, BID_index=3)]"
      ]
     },
     "execution_count": 35,
     "metadata": {},
     "output_type": "execute_result"
    }
   ],
   "source": [
    "df_bid.take(3)"
   ]
  },
  {
   "cell_type": "markdown",
   "metadata": {},
   "source": [
    "RDD and DF with index for CID (ID for CName):"
   ]
  },
  {
   "cell_type": "code",
   "execution_count": 36,
   "metadata": {},
   "outputs": [],
   "source": [
    "rdd_cid = sc.parallelize(list_cid).zipWithIndex()"
   ]
  },
  {
   "cell_type": "code",
   "execution_count": 37,
   "metadata": {},
   "outputs": [
    {
     "data": {
      "text/plain": [
       "[(1, 0), (1, 1), (1, 2)]"
      ]
     },
     "execution_count": 37,
     "metadata": {},
     "output_type": "execute_result"
    }
   ],
   "source": [
    "rdd_cid.take(3)"
   ]
  },
  {
   "cell_type": "code",
   "execution_count": 38,
   "metadata": {},
   "outputs": [],
   "source": [
    "rdd_cid_col = rdd_cid.map(lambda r: Row(CID = r[0], CID_index = r[1]+1))"
   ]
  },
  {
   "cell_type": "code",
   "execution_count": 39,
   "metadata": {},
   "outputs": [
    {
     "data": {
      "text/plain": [
       "[Row(CID=1, CID_index=1), Row(CID=1, CID_index=2), Row(CID=1, CID_index=3)]"
      ]
     },
     "execution_count": 39,
     "metadata": {},
     "output_type": "execute_result"
    }
   ],
   "source": [
    "rdd_cid_col.take(3)"
   ]
  },
  {
   "cell_type": "code",
   "execution_count": 40,
   "metadata": {},
   "outputs": [],
   "source": [
    "df_cid = rdd_cid_col.toDF()"
   ]
  },
  {
   "cell_type": "code",
   "execution_count": 41,
   "metadata": {},
   "outputs": [
    {
     "data": {
      "text/plain": [
       "[Row(CID=1, CID_index=1), Row(CID=1, CID_index=2), Row(CID=1, CID_index=3)]"
      ]
     },
     "execution_count": 41,
     "metadata": {},
     "output_type": "execute_result"
    }
   ],
   "source": [
    "df_cid.take(3)"
   ]
  },
  {
   "cell_type": "markdown",
   "metadata": {},
   "source": [
    "#### Join the DataFrames to add the BID and CID columns "
   ]
  },
  {
   "cell_type": "code",
   "execution_count": 42,
   "metadata": {},
   "outputs": [],
   "source": [
    "df2 = df1.join(df_bid, df1.VID == df_bid.BID_index, 'left').drop('BID_index')"
   ]
  },
  {
   "cell_type": "code",
   "execution_count": 43,
   "metadata": {},
   "outputs": [
    {
     "data": {
      "text/plain": [
       "[Row(VID=26, VName='Gen.1:26', verse='And God said, Let us make man in our image, after our likeness: and let them have dominion over the fish of the sea, and over the fowl of the air, and over the cattle, and over all the earth, and over every creeping thing that creepeth upon the earth.', BName='Gen', CName='Gen.1', BID=1)]"
      ]
     },
     "execution_count": 43,
     "metadata": {},
     "output_type": "execute_result"
    }
   ],
   "source": [
    "df2.take(1)"
   ]
  },
  {
   "cell_type": "code",
   "execution_count": 44,
   "metadata": {},
   "outputs": [],
   "source": [
    "df3 = df2.join(df_cid, df2.VID == df_cid.CID_index, 'left').drop('CID_index')"
   ]
  },
  {
   "cell_type": "code",
   "execution_count": 45,
   "metadata": {},
   "outputs": [
    {
     "data": {
      "text/plain": [
       "[Row(VID=26, VName='Gen.1:26', verse='And God said, Let us make man in our image, after our likeness: and let them have dominion over the fish of the sea, and over the fowl of the air, and over the cattle, and over all the earth, and over every creeping thing that creepeth upon the earth.', BName='Gen', CName='Gen.1', BID=1, CID=1)]"
      ]
     },
     "execution_count": 45,
     "metadata": {},
     "output_type": "execute_result"
    }
   ],
   "source": [
    "df3.take(1)"
   ]
  },
  {
   "cell_type": "code",
   "execution_count": 46,
   "metadata": {},
   "outputs": [
    {
     "name": "stdout",
     "output_type": "stream",
     "text": [
      "+---+--------+--------------------+-----+-----+---+---+\n",
      "|VID|   VName|               verse|BName|CName|BID|CID|\n",
      "+---+--------+--------------------+-----+-----+---+---+\n",
      "| 26|Gen.1:26|And God said, Let...|  Gen|Gen.1|  1|  1|\n",
      "| 29|Gen.1:29|And God said, Beh...|  Gen|Gen.1|  1|  1|\n",
      "+---+--------+--------------------+-----+-----+---+---+\n",
      "only showing top 2 rows\n",
      "\n"
     ]
    }
   ],
   "source": [
    "df3.show(2)"
   ]
  },
  {
   "cell_type": "markdown",
   "metadata": {},
   "source": [
    "#### Start to perform Spark sql operations "
   ]
  },
  {
   "cell_type": "code",
   "execution_count": 47,
   "metadata": {},
   "outputs": [],
   "source": [
    "df3.createOrReplaceTempView('df3_table')"
   ]
  },
  {
   "cell_type": "code",
   "execution_count": 48,
   "metadata": {},
   "outputs": [
    {
     "name": "stdout",
     "output_type": "stream",
     "text": [
      "+---+-----+----+-------+-----+---------+\n",
      "|BID|BName| CID|  CName|  VID|    VName|\n",
      "+---+-----+----+-------+-----+---------+\n",
      "| 62|1John|1161|1John.2|30554|1John.2:3|\n",
      "+---+-----+----+-------+-----+---------+\n",
      "\n"
     ]
    }
   ],
   "source": [
    "spark.sql(\"select BID, BName, CID, CName, VID, VName from df3_table where VName == '1John.2:3'\").show()"
   ]
  },
  {
   "cell_type": "code",
   "execution_count": 49,
   "metadata": {},
   "outputs": [
    {
     "name": "stdout",
     "output_type": "stream",
     "text": [
      "+---+---+\n",
      "|BID|CID|\n",
      "+---+---+\n",
      "| 42|975|\n",
      "+---+---+\n",
      "\n"
     ]
    }
   ],
   "source": [
    "spark.sql(\"select distinct BID, CID from df3_table where CName == 'Luke.2'\").show()"
   ]
  },
  {
   "cell_type": "code",
   "execution_count": 50,
   "metadata": {},
   "outputs": [
    {
     "data": {
      "text/plain": [
       "[Row(BID=66, BName='Rev'),\n",
       " Row(BID=65, BName='Jude'),\n",
       " Row(BID=64, BName='3John')]"
      ]
     },
     "execution_count": 50,
     "metadata": {},
     "output_type": "execute_result"
    }
   ],
   "source": [
    "spark.sql(\"select distinct BID, BName from df3_table order by BID desc\").take(3)"
   ]
  },
  {
   "cell_type": "markdown",
   "metadata": {},
   "source": [
    "Find total number of verses in the book of John:"
   ]
  },
  {
   "cell_type": "code",
   "execution_count": 51,
   "metadata": {},
   "outputs": [
    {
     "name": "stdout",
     "output_type": "stream",
     "text": [
      "+------------+\n",
      "|count(BName)|\n",
      "+------------+\n",
      "|         879|\n",
      "+------------+\n",
      "\n"
     ]
    }
   ],
   "source": [
    "spark.sql(\"select count(BName) from df3_table where BName == 'John' \").show()"
   ]
  },
  {
   "cell_type": "code",
   "execution_count": 52,
   "metadata": {},
   "outputs": [
    {
     "name": "stdout",
     "output_type": "stream",
     "text": [
      "+------------+\n",
      "|count(VName)|\n",
      "+------------+\n",
      "|         879|\n",
      "+------------+\n",
      "\n"
     ]
    }
   ],
   "source": [
    "spark.sql(\"select count(VName) from df3_table where BName == 'John' \").show()"
   ]
  },
  {
   "cell_type": "markdown",
   "metadata": {},
   "source": [
    "Find total number of chapters in the book of John:"
   ]
  },
  {
   "cell_type": "code",
   "execution_count": 53,
   "metadata": {},
   "outputs": [
    {
     "name": "stdout",
     "output_type": "stream",
     "text": [
      "+---------------------+\n",
      "|count(DISTINCT CName)|\n",
      "+---------------------+\n",
      "|                   21|\n",
      "+---------------------+\n",
      "\n"
     ]
    }
   ],
   "source": [
    "spark.sql(\"select count(distinct CName) from df3_table where BName == 'John' \").show()"
   ]
  },
  {
   "cell_type": "markdown",
   "metadata": {},
   "source": [
    "Find total number of verses in the Bible:"
   ]
  },
  {
   "cell_type": "code",
   "execution_count": 60,
   "metadata": {},
   "outputs": [
    {
     "name": "stdout",
     "output_type": "stream",
     "text": [
      "+------------+\n",
      "|count(VName)|\n",
      "+------------+\n",
      "|       31102|\n",
      "+------------+\n",
      "\n"
     ]
    }
   ],
   "source": [
    "spark.sql(\"select count(VName) from df3_table\").show()"
   ]
  },
  {
   "cell_type": "markdown",
   "metadata": {},
   "source": [
    "Find total number of chapters in the Bible:"
   ]
  },
  {
   "cell_type": "code",
   "execution_count": 54,
   "metadata": {},
   "outputs": [
    {
     "name": "stdout",
     "output_type": "stream",
     "text": [
      "+---------------------+\n",
      "|count(DISTINCT CName)|\n",
      "+---------------------+\n",
      "|                 1189|\n",
      "+---------------------+\n",
      "\n"
     ]
    }
   ],
   "source": [
    "spark.sql(\"select count(distinct CName) from df3_table \").show()"
   ]
  },
  {
   "cell_type": "markdown",
   "metadata": {},
   "source": [
    "Total number of books in the Bible:"
   ]
  },
  {
   "cell_type": "code",
   "execution_count": 55,
   "metadata": {},
   "outputs": [
    {
     "name": "stdout",
     "output_type": "stream",
     "text": [
      "+---------------------+\n",
      "|count(DISTINCT BName)|\n",
      "+---------------------+\n",
      "|                   66|\n",
      "+---------------------+\n",
      "\n"
     ]
    }
   ],
   "source": [
    "spark.sql(\"select count(distinct BName) from df3_table \").show()"
   ]
  },
  {
   "cell_type": "markdown",
   "metadata": {},
   "source": [
    "The max number of characters that a verse can have in the Bible:"
   ]
  },
  {
   "cell_type": "code",
   "execution_count": 58,
   "metadata": {},
   "outputs": [
    {
     "name": "stdout",
     "output_type": "stream",
     "text": [
      "+------------------+\n",
      "|max(length(verse))|\n",
      "+------------------+\n",
      "|               528|\n",
      "+------------------+\n",
      "\n"
     ]
    }
   ],
   "source": [
    "spark.sql(\"select max(length(verse)) from df3_table\").show()"
   ]
  },
  {
   "cell_type": "markdown",
   "metadata": {},
   "source": [
    "The top longest verses:"
   ]
  },
  {
   "cell_type": "code",
   "execution_count": 81,
   "metadata": {},
   "outputs": [
    {
     "name": "stdout",
     "output_type": "stream",
     "text": [
      "+-----+----------+-------------+\n",
      "|  VID|     VName|length(verse)|\n",
      "+-----+----------+-------------+\n",
      "|12827|  Esth.8:9|          528|\n",
      "| 9979|2Kgs.16:15|          443|\n",
      "|19448|  Jer.21:7|          442|\n",
      "+-----+----------+-------------+\n",
      "only showing top 3 rows\n",
      "\n"
     ]
    }
   ],
   "source": [
    "spark.sql(\"select VID, VName, length(verse) from df3_table order by length(verse) desc\").show(3)"
   ]
  },
  {
   "cell_type": "markdown",
   "metadata": {},
   "source": [
    "The shortest verses:"
   ]
  },
  {
   "cell_type": "code",
   "execution_count": 80,
   "metadata": {},
   "outputs": [
    {
     "name": "stdout",
     "output_type": "stream",
     "text": [
      "+-----+-----------+-------------+\n",
      "|  VID|      VName|length(verse)|\n",
      "+-----+-----------+-------------+\n",
      "|26559| John.11:35|           11|\n",
      "|29638|1Thess.5:16|           17|\n",
      "|10278|  1Chr.1:25|           17|\n",
      "+-----+-----------+-------------+\n",
      "only showing top 3 rows\n",
      "\n"
     ]
    }
   ],
   "source": [
    "spark.sql(\"select VID, VName, length(verse) from df3_table order by length(verse) asc\").show(3)"
   ]
  },
  {
   "cell_type": "markdown",
   "metadata": {},
   "source": [
    "The shortest chapters in terms of total number of characters: "
   ]
  },
  {
   "cell_type": "code",
   "execution_count": 112,
   "metadata": {},
   "outputs": [
    {
     "name": "stdout",
     "output_type": "stream",
     "text": [
      "+------+------------------+\n",
      "| CName|sum(length(verse))|\n",
      "+------+------------------+\n",
      "|Ps.117|               173|\n",
      "|Ps.134|               221|\n",
      "|Ps.131|               302|\n",
      "|Ps.133|               369|\n",
      "|Job.25|               428|\n",
      "+------+------------------+\n",
      "only showing top 5 rows\n",
      "\n"
     ]
    }
   ],
   "source": [
    "spark.sql(\"select CName, sum(length(verse)) from df3_table group by CName order by sum(length(verse)) asc\").show(5)"
   ]
  },
  {
   "cell_type": "markdown",
   "metadata": {},
   "source": [
    "The longest chapters in terms of total number of characters: "
   ]
  },
  {
   "cell_type": "code",
   "execution_count": 114,
   "metadata": {},
   "outputs": [
    {
     "name": "stdout",
     "output_type": "stream",
     "text": [
      "+-------+------------------+\n",
      "|  CName|sum(length(verse))|\n",
      "+-------+------------------+\n",
      "| Ps.119|             12839|\n",
      "| 1Kgs.8|             11318|\n",
      "|Deut.28|             10807|\n",
      "|  Num.7|             10395|\n",
      "|Ezek.16|              9888|\n",
      "+-------+------------------+\n",
      "only showing top 5 rows\n",
      "\n"
     ]
    }
   ],
   "source": [
    "spark.sql(\"select CName, sum(length(verse)) from df3_table group by CName order by sum(length(verse)) desc\").show(5)"
   ]
  },
  {
   "cell_type": "markdown",
   "metadata": {},
   "source": [
    "The shortest chapters in terms of total number of verses: "
   ]
  },
  {
   "cell_type": "code",
   "execution_count": 104,
   "metadata": {},
   "outputs": [
    {
     "name": "stdout",
     "output_type": "stream",
     "text": [
      "+-------+------------+\n",
      "|  CName|count(CName)|\n",
      "+-------+------------+\n",
      "| Ps.117|           2|\n",
      "| Ps.134|           3|\n",
      "| Ps.133|           3|\n",
      "| Ps.131|           3|\n",
      "|Esth.10|           3|\n",
      "+-------+------------+\n",
      "only showing top 5 rows\n",
      "\n"
     ]
    }
   ],
   "source": [
    "spark.sql(\"select CName, count(CName) from df3_table group by CName order by count(CName) asc\").show(5)"
   ]
  },
  {
   "cell_type": "markdown",
   "metadata": {},
   "source": [
    "The longest chapters in terms of total number of verses: "
   ]
  },
  {
   "cell_type": "code",
   "execution_count": 105,
   "metadata": {},
   "outputs": [
    {
     "name": "stdout",
     "output_type": "stream",
     "text": [
      "+-------+------------+\n",
      "|  CName|count(CName)|\n",
      "+-------+------------+\n",
      "| Ps.119|         176|\n",
      "|  Num.7|          89|\n",
      "| 1Chr.6|          81|\n",
      "| Luke.1|          80|\n",
      "|Matt.26|          75|\n",
      "+-------+------------+\n",
      "only showing top 5 rows\n",
      "\n"
     ]
    }
   ],
   "source": [
    "spark.sql(\"select CName, count(CName) from df3_table group by CName order by count(CName) desc\").show(5)"
   ]
  },
  {
   "cell_type": "markdown",
   "metadata": {},
   "source": [
    "The shortest books in terms of total number of verses: "
   ]
  },
  {
   "cell_type": "code",
   "execution_count": 106,
   "metadata": {},
   "outputs": [
    {
     "name": "stdout",
     "output_type": "stream",
     "text": [
      "+-----+------------+\n",
      "|BName|count(BName)|\n",
      "+-----+------------+\n",
      "|2John|          13|\n",
      "|3John|          14|\n",
      "| Obad|          21|\n",
      "| Jude|          25|\n",
      "| Phlm|          25|\n",
      "+-----+------------+\n",
      "only showing top 5 rows\n",
      "\n"
     ]
    }
   ],
   "source": [
    "spark.sql(\"select BName, count(BName) from df3_table group by BName order by count(BName) asc\").show(5)"
   ]
  },
  {
   "cell_type": "markdown",
   "metadata": {},
   "source": [
    "The longest books in terms of total number of verses: "
   ]
  },
  {
   "cell_type": "code",
   "execution_count": 107,
   "metadata": {},
   "outputs": [
    {
     "name": "stdout",
     "output_type": "stream",
     "text": [
      "+-----+------------+\n",
      "|BName|count(BName)|\n",
      "+-----+------------+\n",
      "|   Ps|        2461|\n",
      "|  Gen|        1533|\n",
      "|  Jer|        1364|\n",
      "|  Isa|        1292|\n",
      "|  Num|        1288|\n",
      "+-----+------------+\n",
      "only showing top 5 rows\n",
      "\n"
     ]
    }
   ],
   "source": [
    "spark.sql(\"select BName, count(BName) from df3_table group by BName order by count(BName) desc\").show(5)"
   ]
  },
  {
   "cell_type": "markdown",
   "metadata": {},
   "source": [
    "The longest books in terms of total number of characters:"
   ]
  },
  {
   "cell_type": "code",
   "execution_count": 126,
   "metadata": {},
   "outputs": [
    {
     "name": "stdout",
     "output_type": "stream",
     "text": [
      "+-----+------------------+\n",
      "|BName|sum(length(verse))|\n",
      "+-----+------------------+\n",
      "|  Jer|            222753|\n",
      "|   Ps|            221635|\n",
      "| Ezek|            204283|\n",
      "|  Gen|            195318|\n",
      "|  Isa|            192879|\n",
      "+-----+------------------+\n",
      "only showing top 5 rows\n",
      "\n"
     ]
    }
   ],
   "source": [
    "spark.sql(\"select BName, sum(length(verse)) from df3_table group by BName order by sum(length(verse)) desc\").show(5)"
   ]
  },
  {
   "cell_type": "markdown",
   "metadata": {},
   "source": [
    "The shortest books in terms of total number of characters:"
   ]
  },
  {
   "cell_type": "code",
   "execution_count": 127,
   "metadata": {},
   "outputs": [
    {
     "name": "stdout",
     "output_type": "stream",
     "text": [
      "+-----+------------------+\n",
      "|BName|sum(length(verse))|\n",
      "+-----+------------------+\n",
      "|2John|              1540|\n",
      "|3John|              1579|\n",
      "| Phlm|              2295|\n",
      "| Jude|              3498|\n",
      "| Obad|              3561|\n",
      "+-----+------------------+\n",
      "only showing top 5 rows\n",
      "\n"
     ]
    }
   ],
   "source": [
    "spark.sql(\"select BName, sum(length(verse)) from df3_table group by BName order by sum(length(verse)) asc\").show(5)"
   ]
  },
  {
   "cell_type": "markdown",
   "metadata": {},
   "source": [
    "#### Query with Spark DataFrame functions:"
   ]
  },
  {
   "cell_type": "code",
   "execution_count": 738,
   "metadata": {},
   "outputs": [
    {
     "data": {
      "text/plain": [
       "[Row(VID=31034, VName='Rev.19:16', verse='And he hath on his vesture and on his thigh a name written, King Of Kings, And Lord Of Lords .', BName='Rev', CName='Rev.19', BID=66, CID=1186)]"
      ]
     },
     "execution_count": 738,
     "metadata": {},
     "output_type": "execute_result"
    }
   ],
   "source": [
    "df3.filter(df3.verse.contains('Lords')).collect()"
   ]
  },
  {
   "cell_type": "code",
   "execution_count": 739,
   "metadata": {},
   "outputs": [
    {
     "data": {
      "text/plain": [
       "[Row(VID=31034, VName='Rev.19:16', verse='And he hath on his vesture and on his thigh a name written, King Of Kings, And Lord Of Lords .', BName='Rev', CName='Rev.19', BID=66, CID=1186)]"
      ]
     },
     "execution_count": 739,
     "metadata": {},
     "output_type": "execute_result"
    }
   ],
   "source": [
    "df3.filter(df3.verse.endswith('Lords .')).collect()"
   ]
  },
  {
   "cell_type": "code",
   "execution_count": 740,
   "metadata": {},
   "outputs": [
    {
     "data": {
      "text/plain": [
       "[Row(VID=31034, VName='Rev.19:16', verse='And he hath on his vesture and on his thigh a name written, King Of Kings, And Lord Of Lords .', BName='Rev', CName='Rev.19', BID=66, CID=1186)]"
      ]
     },
     "execution_count": 740,
     "metadata": {},
     "output_type": "execute_result"
    }
   ],
   "source": [
    "df3.filter(df3.verse.like('%ords .')).collect()"
   ]
  },
  {
   "cell_type": "code",
   "execution_count": 741,
   "metadata": {},
   "outputs": [],
   "source": [
    "#df3[df3.CName.isin(\"1John.1\", \"Ezek.59\")].collect()"
   ]
  },
  {
   "cell_type": "code",
   "execution_count": 742,
   "metadata": {},
   "outputs": [],
   "source": [
    "#df3.filter(df3.CName.like('%zek.39%')).collect()"
   ]
  },
  {
   "cell_type": "code",
   "execution_count": 743,
   "metadata": {},
   "outputs": [],
   "source": [
    "#df3.groupBy('BName').count().show()"
   ]
  },
  {
   "cell_type": "code",
   "execution_count": 757,
   "metadata": {},
   "outputs": [],
   "source": [
    "#df3.orderBy(desc('BID'), 'VID').show()"
   ]
  },
  {
   "cell_type": "code",
   "execution_count": 95,
   "metadata": {},
   "outputs": [],
   "source": [
    "#df3.first()"
   ]
  },
  {
   "cell_type": "code",
   "execution_count": 96,
   "metadata": {},
   "outputs": [],
   "source": [
    "#df3.head()"
   ]
  },
  {
   "cell_type": "code",
   "execution_count": 97,
   "metadata": {},
   "outputs": [],
   "source": [
    "#df3.limit(1).collect()"
   ]
  },
  {
   "cell_type": "code",
   "execution_count": 87,
   "metadata": {},
   "outputs": [
    {
     "data": {
      "text/plain": [
       "31102"
      ]
     },
     "execution_count": 87,
     "metadata": {},
     "output_type": "execute_result"
    }
   ],
   "source": [
    "df3.count()"
   ]
  },
  {
   "cell_type": "code",
   "execution_count": 91,
   "metadata": {},
   "outputs": [
    {
     "data": {
      "text/plain": [
       "[Row(CID=1, VID=26, VName='Gen.1:26'),\n",
       " Row(CID=1, VID=29, VName='Gen.1:29'),\n",
       " Row(CID=19, VID=474, VName='Gen.19:16')]"
      ]
     },
     "execution_count": 91,
     "metadata": {},
     "output_type": "execute_result"
    }
   ],
   "source": [
    "df3.select('CID', 'VID', 'VName').limit(3).collect()"
   ]
  },
  {
   "cell_type": "code",
   "execution_count": 94,
   "metadata": {},
   "outputs": [
    {
     "data": {
      "text/plain": [
       "[Row(VID=1, VName='Gen.1:1', verse='In the beginning God created the heaven and the earth.', BName='Gen', CName='Gen.1', BID=1, CID=1),\n",
       " Row(VID=2, VName='Gen.1:2', verse='And the earth was without form, and void; and darkness was upon the face of the deep. And the Spirit of God moved upon the face of the waters.', BName='Gen', CName='Gen.1', BID=1, CID=1),\n",
       " Row(VID=3, VName='Gen.1:3', verse='And God said, Let there be light: and there was light.', BName='Gen', CName='Gen.1', BID=1, CID=1)]"
      ]
     },
     "execution_count": 94,
     "metadata": {},
     "output_type": "execute_result"
    }
   ],
   "source": [
    "df3.sort(df3.VID.asc()).limit(3).collect()"
   ]
  },
  {
   "cell_type": "code",
   "execution_count": null,
   "metadata": {},
   "outputs": [],
   "source": []
  }
 ],
 "metadata": {
  "kernelspec": {
   "display_name": "Python 3",
   "language": "python",
   "name": "python3"
  },
  "language_info": {
   "codemirror_mode": {
    "name": "ipython",
    "version": 3
   },
   "file_extension": ".py",
   "mimetype": "text/x-python",
   "name": "python",
   "nbconvert_exporter": "python",
   "pygments_lexer": "ipython3",
   "version": "3.7.1"
  }
 },
 "nbformat": 4,
 "nbformat_minor": 2
}
